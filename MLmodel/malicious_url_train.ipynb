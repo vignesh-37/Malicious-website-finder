{
 "cells": [
  {
   "cell_type": "markdown",
   "metadata": {},
   "source": [
    "import Neccessary libraries\n"
   ]
  },
  {
   "cell_type": "code",
   "execution_count": 1,
   "metadata": {},
   "outputs": [],
   "source": [
    "import re\n",
    "import pandas as pd\n",
    "from urllib.parse import urlparse\n",
    "from sklearn.preprocessing import LabelEncoder\n",
    "from sklearn.model_selection import train_test_split, cross_val_score\n",
    "from sklearn.ensemble import RandomForestClassifier\n",
    "from sklearn.metrics import accuracy_score, classification_report\n",
    "import joblib"
   ]
  },
  {
   "cell_type": "markdown",
   "metadata": {},
   "source": [
    "Load the data"
   ]
  },
  {
   "cell_type": "code",
   "execution_count": 2,
   "metadata": {},
   "outputs": [],
   "source": [
    "df = pd.read_csv('malicious_dataset.csv')"
   ]
  },
  {
   "cell_type": "code",
   "execution_count": 3,
   "metadata": {},
   "outputs": [
    {
     "data": {
      "text/plain": [
       "(659953, 24)"
      ]
     },
     "execution_count": 3,
     "metadata": {},
     "output_type": "execute_result"
    }
   ],
   "source": [
    "\n",
    "# df.head()\n",
    "# df.tail()\n",
    "# df.describe()\n",
    "# duplicates=df[df.duplicated('url')]\n",
    "# duplicates\n",
    "# df.shape\n",
    "# df.isnull().any()\n",
    "\n",
    "# df[df['url'].isin([duplicates])]\n",
    "# df = df.drop_duplicates()\n",
    "# df[df['url'].duplicated()==1]\n",
    "# df\n",
    "# Remove duplicates and null values\n",
    "df.drop_duplicates(inplace=True)\n",
    "df.dropna(inplace=True)\n",
    "\n",
    "df.shape\n",
    "\n"
   ]
  },
  {
   "cell_type": "markdown",
   "metadata": {},
   "source": [
    "Extract features\n"
   ]
  },
  {
   "cell_type": "code",
   "execution_count": 4,
   "metadata": {},
   "outputs": [
    {
     "data": {
      "text/html": [
       "<div>\n",
       "<style scoped>\n",
       "    .dataframe tbody tr th:only-of-type {\n",
       "        vertical-align: middle;\n",
       "    }\n",
       "\n",
       "    .dataframe tbody tr th {\n",
       "        vertical-align: top;\n",
       "    }\n",
       "\n",
       "    .dataframe thead th {\n",
       "        text-align: right;\n",
       "    }\n",
       "</style>\n",
       "<table border=\"1\" class=\"dataframe\">\n",
       "  <thead>\n",
       "    <tr style=\"text-align: right;\">\n",
       "      <th></th>\n",
       "      <th>url</th>\n",
       "      <th>type</th>\n",
       "      <th>use_of_ip</th>\n",
       "      <th>abnormal_url</th>\n",
       "      <th>count.</th>\n",
       "      <th>count-www</th>\n",
       "      <th>count@</th>\n",
       "      <th>count-dir</th>\n",
       "      <th>short_url</th>\n",
       "      <th>url_length</th>\n",
       "      <th>...</th>\n",
       "      <th>count%</th>\n",
       "      <th>count-digits</th>\n",
       "      <th>count-letters</th>\n",
       "      <th>count_embed_domian</th>\n",
       "      <th>count-https</th>\n",
       "      <th>count-http</th>\n",
       "      <th>sus_url</th>\n",
       "      <th>fd_length</th>\n",
       "      <th>legitimate_TLD</th>\n",
       "      <th>url_type</th>\n",
       "    </tr>\n",
       "  </thead>\n",
       "  <tbody>\n",
       "    <tr>\n",
       "      <th>0</th>\n",
       "      <td>br-icloud.com.br</td>\n",
       "      <td>phishing</td>\n",
       "      <td>0</td>\n",
       "      <td>1</td>\n",
       "      <td>2</td>\n",
       "      <td>0</td>\n",
       "      <td>0</td>\n",
       "      <td>0</td>\n",
       "      <td>1</td>\n",
       "      <td>16</td>\n",
       "      <td>...</td>\n",
       "      <td>0</td>\n",
       "      <td>0</td>\n",
       "      <td>13</td>\n",
       "      <td>0</td>\n",
       "      <td>0</td>\n",
       "      <td>0</td>\n",
       "      <td>0</td>\n",
       "      <td>0</td>\n",
       "      <td>0</td>\n",
       "      <td>3</td>\n",
       "    </tr>\n",
       "    <tr>\n",
       "      <th>1</th>\n",
       "      <td>mp3raid.com/music/krizz_kaliko.html</td>\n",
       "      <td>benign</td>\n",
       "      <td>0</td>\n",
       "      <td>1</td>\n",
       "      <td>2</td>\n",
       "      <td>0</td>\n",
       "      <td>0</td>\n",
       "      <td>2</td>\n",
       "      <td>0</td>\n",
       "      <td>35</td>\n",
       "      <td>...</td>\n",
       "      <td>0</td>\n",
       "      <td>1</td>\n",
       "      <td>29</td>\n",
       "      <td>0</td>\n",
       "      <td>0</td>\n",
       "      <td>0</td>\n",
       "      <td>0</td>\n",
       "      <td>5</td>\n",
       "      <td>0</td>\n",
       "      <td>0</td>\n",
       "    </tr>\n",
       "    <tr>\n",
       "      <th>2</th>\n",
       "      <td>http://9779.info/%E6%A0%91%E5%8F%B6%E7%B2%98%E...</td>\n",
       "      <td>malware</td>\n",
       "      <td>0</td>\n",
       "      <td>0</td>\n",
       "      <td>1</td>\n",
       "      <td>0</td>\n",
       "      <td>0</td>\n",
       "      <td>4</td>\n",
       "      <td>0</td>\n",
       "      <td>63</td>\n",
       "      <td>...</td>\n",
       "      <td>15</td>\n",
       "      <td>21</td>\n",
       "      <td>21</td>\n",
       "      <td>0</td>\n",
       "      <td>0</td>\n",
       "      <td>1</td>\n",
       "      <td>0</td>\n",
       "      <td>45</td>\n",
       "      <td>0</td>\n",
       "      <td>2</td>\n",
       "    </tr>\n",
       "    <tr>\n",
       "      <th>3</th>\n",
       "      <td>http://www.garage-pirenne.be/index.php?option=...</td>\n",
       "      <td>defacement</td>\n",
       "      <td>0</td>\n",
       "      <td>0</td>\n",
       "      <td>3</td>\n",
       "      <td>1</td>\n",
       "      <td>0</td>\n",
       "      <td>3</td>\n",
       "      <td>0</td>\n",
       "      <td>88</td>\n",
       "      <td>...</td>\n",
       "      <td>0</td>\n",
       "      <td>7</td>\n",
       "      <td>63</td>\n",
       "      <td>0</td>\n",
       "      <td>0</td>\n",
       "      <td>1</td>\n",
       "      <td>0</td>\n",
       "      <td>9</td>\n",
       "      <td>1</td>\n",
       "      <td>1</td>\n",
       "    </tr>\n",
       "    <tr>\n",
       "      <th>4</th>\n",
       "      <td>bopsecrets.org/rexroth/cr/1.htm</td>\n",
       "      <td>benign</td>\n",
       "      <td>0</td>\n",
       "      <td>1</td>\n",
       "      <td>2</td>\n",
       "      <td>0</td>\n",
       "      <td>0</td>\n",
       "      <td>3</td>\n",
       "      <td>0</td>\n",
       "      <td>31</td>\n",
       "      <td>...</td>\n",
       "      <td>0</td>\n",
       "      <td>1</td>\n",
       "      <td>25</td>\n",
       "      <td>0</td>\n",
       "      <td>0</td>\n",
       "      <td>0</td>\n",
       "      <td>0</td>\n",
       "      <td>7</td>\n",
       "      <td>0</td>\n",
       "      <td>0</td>\n",
       "    </tr>\n",
       "  </tbody>\n",
       "</table>\n",
       "<p>5 rows × 24 columns</p>\n",
       "</div>"
      ],
      "text/plain": [
       "                                                 url        type  use_of_ip  \\\n",
       "0                                   br-icloud.com.br    phishing          0   \n",
       "1                mp3raid.com/music/krizz_kaliko.html      benign          0   \n",
       "2  http://9779.info/%E6%A0%91%E5%8F%B6%E7%B2%98%E...     malware          0   \n",
       "3  http://www.garage-pirenne.be/index.php?option=...  defacement          0   \n",
       "4                    bopsecrets.org/rexroth/cr/1.htm      benign          0   \n",
       "\n",
       "   abnormal_url  count.  count-www  count@  count-dir  short_url  url_length  \\\n",
       "0             1       2          0       0          0          1          16   \n",
       "1             1       2          0       0          2          0          35   \n",
       "2             0       1          0       0          4          0          63   \n",
       "3             0       3          1       0          3          0          88   \n",
       "4             1       2          0       0          3          0          31   \n",
       "\n",
       "   ...  count%  count-digits  count-letters  count_embed_domian  count-https  \\\n",
       "0  ...       0             0             13                   0            0   \n",
       "1  ...       0             1             29                   0            0   \n",
       "2  ...      15            21             21                   0            0   \n",
       "3  ...       0             7             63                   0            0   \n",
       "4  ...       0             1             25                   0            0   \n",
       "\n",
       "   count-http  sus_url  fd_length  legitimate_TLD  url_type  \n",
       "0           0        0          0               0         3  \n",
       "1           0        0          5               0         0  \n",
       "2           1        0         45               0         2  \n",
       "3           1        0          9               1         1  \n",
       "4           0        0          7               0         0  \n",
       "\n",
       "[5 rows x 24 columns]"
      ]
     },
     "execution_count": 4,
     "metadata": {},
     "output_type": "execute_result"
    }
   ],
   "source": [
    "\n",
    "def use_of_ip(url):\n",
    "    ipv4_pattern = r'(\\d{1,3}\\.){3}\\d{1,3}'\n",
    "    ipv6_pattern = r'([a-fA-F0-9:]+:+)+[a-fA-F0-9]+'\n",
    "    return 1 if re.search(ipv4_pattern, url) or re.search(ipv6_pattern, url) else 0\n",
    "\n",
    "def abnormal_url(url):\n",
    "    try:\n",
    "        parsed_url = urlparse(url)\n",
    "        hostname = parsed_url.hostname\n",
    "        if not hostname:\n",
    "            return 1\n",
    "        return 0 if hostname in url and url.index(hostname) == url.find(parsed_url.netloc) else 1\n",
    "    except:\n",
    "        return 1\n",
    "\n",
    "def count_character(url, char):\n",
    "    return url.count(char)\n",
    "\n",
    "def domain_length(url):\n",
    "    return len(urlparse(url).netloc)\n",
    "\n",
    "def short_url(url):\n",
    "    return 1 if len(url) < 20 else 0\n",
    "\n",
    "def no_of_embed(url):\n",
    "    return urlparse(url).path.count('//')\n",
    "\n",
    "def count_https(url):\n",
    "    return url.count('https')\n",
    "\n",
    "def count_http(url):\n",
    "    return url.count('http')\n",
    "\n",
    "def suspicious_words(url):\n",
    "    return 1 if re.search(\n",
    "        \"account|alert|api|auth|bank|bonus|cmd|confirm|credit|dashboard|discount|download|exe|fake|\"\n",
    "        \"free|gift|hacked|important|invoice|key|limited|login|malware|money|offer|password|pay|payment|\"\n",
    "        \"paypal|prize|promo|recovery|redeem|refund|register|reset|reward|root|secure|setup|signin|shell|\"\n",
    "        \"special|support|token|update|urgent|verify|warning|winner\", url) else 0\n",
    "\n",
    "def fd_length(url):\n",
    "    urlpath = urlparse(url).path\n",
    "    try:\n",
    "        return len(urlpath.split('/')[1])\n",
    "    except:\n",
    "        return 0\n",
    "\n",
    "def legitimate_TLD(url):\n",
    "    # List of legitimate TLDs\n",
    "    legitimate_tlds = (\n",
    "        \".com|.org|.net|.info|.biz|.name|.pro|.edu|.gov|.mil|.us|.uk|.ca|.au|\"\n",
    "        \".in|.de|.fr|.jp|.cn|.ru|.br|.za|.nz|.mx|.sg|.tech|.app|.io|.ai|.dev|\"\n",
    "        \".online|.store|.blog|.design|.law|.health|.hotel|.travel|.bank|\"\n",
    "        \".finance|.insurance|.media|.agency|.realty|.arpa|.pharmacy|.tv|.me|.cc\"\n",
    "    )\n",
    "\n",
    "    # Use regex to search for the legitimate TLDs in the URL\n",
    "    return 0 if re.search(r'\\b(' + legitimate_tlds + r')\\b', url, re.IGNORECASE) else 1      \n",
    "\n",
    "def extract_features(df):\n",
    "    df['use_of_ip'] = df['url'].apply(use_of_ip)\n",
    "    df['abnormal_url'] = df['url'].apply(abnormal_url)\n",
    "    df['count.'] = df['url'].apply(lambda x: count_character(x, '.'))\n",
    "    df['count-www'] = df['url'].apply(lambda x: count_character(x, 'www'))\n",
    "    df['count@'] = df['url'].apply(lambda x: count_character(x, '@'))\n",
    "    df['count-dir'] = df['url'].apply(lambda x: count_character(x, '/'))\n",
    "    df['short_url'] = df['url'].apply(short_url)\n",
    "    df['url_length'] = df['url'].apply(len)\n",
    "    df['hostname_length'] = df['url'].apply(domain_length)\n",
    "    df['count-'] = df['url'].apply(lambda x: count_character(x, '-'))\n",
    "    df['count='] = df['url'].apply(lambda x: count_character(x, '='))\n",
    "    df['count?'] = df['url'].apply(lambda x: count_character(x, '?'))\n",
    "    df['count%'] = df['url'].apply(lambda x: count_character(x, '%'))\n",
    "    df['count-digits'] = df['url'].apply(lambda x: sum(c.isdigit() for c in x))\n",
    "    df['count-letters'] = df['url'].apply(lambda x: sum(c.isalpha() for c in x))\n",
    "    df['count_embed_domian'] = df['url'].apply(no_of_embed)\n",
    "    df['count-https'] = df['url'].apply(count_https)\n",
    "    df['count-http'] = df['url'].apply(count_http)\n",
    "    df['sus_url'] = df['url'].apply(suspicious_words)\n",
    "    df['fd_length'] = df['url'].apply(fd_length)\n",
    "    df['legitimate_TLD'] = df['url'].apply(legitimate_TLD)\n",
    "    # Only process 'type' during training\n",
    "    if 'type' in df.columns:\n",
    "        from sklearn.preprocessing import LabelEncoder\n",
    "        lb_make = LabelEncoder()\n",
    "        df[\"url_type\"] = lb_make.fit_transform(df[\"type\"])\n",
    "    \n",
    "    return df\n",
    "\n",
    "\n",
    "df = extract_features(df)\n",
    "\n",
    "df.head()"
   ]
  },
  {
   "cell_type": "code",
   "execution_count": 4,
   "metadata": {},
   "outputs": [
    {
     "data": {
      "text/plain": [
       "type\n",
       "benign        443906\n",
       "phishing       97094\n",
       "defacement     95308\n",
       "malware        23645\n",
       "Name: count, dtype: int64"
      ]
     },
     "execution_count": 4,
     "metadata": {},
     "output_type": "execute_result"
    }
   ],
   "source": [
    "column = 'type'\n",
    "values_count = df[column].value_counts()\n",
    "values_count"
   ]
  },
  {
   "cell_type": "code",
   "execution_count": 5,
   "metadata": {},
   "outputs": [
    {
     "data": {
      "text/plain": [
       "url                   False\n",
       "type                  False\n",
       "use_of_ip             False\n",
       "abnormal_url          False\n",
       "count.                False\n",
       "count-www             False\n",
       "count@                False\n",
       "count-dir             False\n",
       "short_url             False\n",
       "url_length            False\n",
       "hostname_length       False\n",
       "count-                False\n",
       "count=                False\n",
       "count?                False\n",
       "count%                False\n",
       "count-digits          False\n",
       "count-letters         False\n",
       "count_embed_domian    False\n",
       "count-https           False\n",
       "count-http            False\n",
       "sus_url               False\n",
       "fd_length             False\n",
       "legitimate_TLD        False\n",
       "url_type              False\n",
       "dtype: bool"
      ]
     },
     "execution_count": 5,
     "metadata": {},
     "output_type": "execute_result"
    }
   ],
   "source": [
    "df.isnull().any()"
   ]
  },
  {
   "cell_type": "markdown",
   "metadata": {},
   "source": [
    "Split the data for test and train"
   ]
  },
  {
   "cell_type": "code",
   "execution_count": 6,
   "metadata": {},
   "outputs": [],
   "source": [
    "# Model Training\n",
    "x = df[['use_of_ip', 'abnormal_url', 'count.', 'count-www', 'count@',\n",
    "        'count-dir', 'count_embed_domian', 'short_url', 'count-https',\n",
    "        'count-http', 'count%', 'count?', 'count-', 'count=', 'url_length',\n",
    "        'hostname_length', 'sus_url', 'fd_length', 'count-digits',\n",
    "        'count-letters', 'legitimate_TLD']]\n",
    "y = df['url_type']\n",
    "\n",
    "# Train-Test Split\n",
    "x_train, x_test, y_train, y_test = train_test_split(x, y, test_size=0.2, random_state=42)"
   ]
  },
  {
   "cell_type": "markdown",
   "metadata": {},
   "source": [
    "Train the model"
   ]
  },
  {
   "cell_type": "code",
   "execution_count": 7,
   "metadata": {},
   "outputs": [
    {
     "data": {
      "text/plain": [
       "0.9508148282837466"
      ]
     },
     "execution_count": 7,
     "metadata": {},
     "output_type": "execute_result"
    }
   ],
   "source": [
    "\n",
    "#randomforest\n",
    "rf = RandomForestClassifier()\n",
    "rf.fit(x_train, y_train)\n",
    "rf_preds = rf.predict(x_test)\n",
    "rf_acc = accuracy_score(y_test, rf_preds)\n",
    "rf_acc\n",
    "\n",
    "\n",
    "# from xgboost import XGBClassifier\n",
    "# from sklearn.metrics import accuracy_score\n",
    "\n",
    "# # XGBoost Model Training\n",
    "# xgb = XGBClassifier()\n",
    "# xgb.fit(x_train, y_train)\n",
    "# xgb_preds = xgb.predict(x_test)\n",
    "# xgb_acc = accuracy_score(y_test, xgb_preds)\n",
    "\n",
    "# from sklearn.linear_model import LogisticRegression\n",
    "\n",
    "# #LogisticRegression\n",
    "# lr = LogisticRegression(max_iter=10000000)\n",
    "# lr.fit(x_train, y_train)\n",
    "# lr_preds = lr.predict(x_test)\n",
    "# lr_acc = accuracy_score(y_test, lr_preds)\n",
    "\n",
    "\n",
    "# #lightbgm\n",
    "# from lightgbm import LGBMClassifier\n",
    "# from sklearn.metrics import accuracy_score\n",
    "\n",
    "# # 1. Initialize the LightGBM classifier\n",
    "# lightgbm = LGBMClassifier()\n",
    "\n",
    "# # 2. Train the model using the training data\n",
    "# lightgbm.fit(x_train, y_train)\n",
    "\n",
    "# # 3. Make predictions on the test data\n",
    "# lightgbm_preds = lightgbm.predict(x_test)\n",
    "\n",
    "# # 4. Evaluate the predictions using accuracy score\n",
    "# accuracy = accuracy_score(y_test, lightgbm_preds)\n",
    "\n",
    "# # Print the accuracy\n",
    "# print(f\"Accuracy: {accuracy}\")\n"
   ]
  },
  {
   "cell_type": "code",
   "execution_count": 8,
   "metadata": {},
   "outputs": [
    {
     "name": "stdout",
     "output_type": "stream",
     "text": [
      "\n",
      "Classification Report:\n",
      "               precision    recall  f1-score   support\n",
      "\n",
      "           0       0.97      0.97      0.97     88810\n",
      "           1       0.97      0.99      0.98     18861\n",
      "           2       0.98      0.91      0.94      4708\n",
      "           3       0.85      0.83      0.84     19612\n",
      "\n",
      "    accuracy                           0.95    131991\n",
      "   macro avg       0.94      0.93      0.93    131991\n",
      "weighted avg       0.95      0.95      0.95    131991\n",
      "\n"
     ]
    }
   ],
   "source": [
    "\n",
    "model = rf\n",
    "y_pred = model.predict(x_test)\n",
    "print(\"\\nClassification Report:\\n\", classification_report(y_test, y_pred))"
   ]
  },
  {
   "cell_type": "markdown",
   "metadata": {},
   "source": [
    "Export the model"
   ]
  },
  {
   "cell_type": "code",
   "execution_count": 9,
   "metadata": {},
   "outputs": [
    {
     "data": {
      "text/plain": [
       "['best_model.pkl']"
      ]
     },
     "execution_count": 9,
     "metadata": {},
     "output_type": "execute_result"
    }
   ],
   "source": [
    " joblib.dump(rf, 'best_model.pkl')"
   ]
  }
 ],
 "metadata": {
  "kernelspec": {
   "display_name": "Python 3",
   "language": "python",
   "name": "python3"
  },
  "language_info": {
   "codemirror_mode": {
    "name": "ipython",
    "version": 3
   },
   "file_extension": ".py",
   "mimetype": "text/x-python",
   "name": "python",
   "nbconvert_exporter": "python",
   "pygments_lexer": "ipython3",
   "version": "3.12.0"
  }
 },
 "nbformat": 4,
 "nbformat_minor": 2
}
